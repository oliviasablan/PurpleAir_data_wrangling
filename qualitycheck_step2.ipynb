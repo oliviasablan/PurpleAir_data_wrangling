{
 "cells": [
  {
   "cell_type": "markdown",
   "id": "76130ade",
   "metadata": {},
   "source": [
    "## Qualitycheck_step2\n",
    "### Author: Olivia Sablan\n",
    "The following code is used to clean PurpleAir data previously compiled in \"OnlineandSD_step1.\"\n",
    "\n",
    "Last updated: May 19, 2025"
   ]
  },
  {
   "cell_type": "code",
   "execution_count": 8,
   "id": "88f13c0c",
   "metadata": {},
   "outputs": [],
   "source": [
    "import pandas as pd\n",
    "import numpy as np\n",
    "import glob\n",
    "import warnings\n",
    "import os.path\n",
    "import datetime\n",
    "from datetime import timedelta\n",
    "warnings.filterwarnings(\"ignore\")"
   ]
  },
  {
   "cell_type": "code",
   "execution_count": 9,
   "id": "d0c80a59",
   "metadata": {},
   "outputs": [],
   "source": [
    "google = pd.read_csv('https://docs.google.com/spreadsheets/')\n",
    "google = google.dropna(subset = 'Sensor ID for User')\n",
    "google['Sensor ID for User'] = google['Sensor ID for User'].astype(int)\n",
    "google = google.dropna(subset = ['Sensor ID for User'])\n",
    "\n",
    "senslist=np.array(google['Sensor ID for User'][:],dtype='int')\n",
    "strsenslist= [str(i) for i in senslist]\n",
    "compileddf = pd.read_csv('../data/raw_combinedSDonline.csv')\n",
    "compileddf['created_at'] = pd.to_datetime(compileddf['created_at'])"
   ]
  },
  {
   "cell_type": "code",
   "execution_count": 25,
   "id": "2877c75f",
   "metadata": {},
   "outputs": [],
   "source": [
    "# Three sensors have errorneous temp/humidity sensors, replace these obs with obs from a nearby sensor\n",
    "# Define mapping of sensors that need to be replaced with reference sensors\n",
    "replacement_map = {226755: 225077,225025: 225077,226733: 225107}\n",
    "compileddf_fixed = pd.DataFrame()\n",
    "\n",
    "for sensor_id in senslist:\n",
    "    if sensor_id in replacement_map:\n",
    "        sens_toreplace = compileddf[compileddf['ID'] == sensor_id]\n",
    "        sens_correct = compileddf[compileddf['ID'] == replacement_map[sensor_id]]\n",
    "        fixed = pd.merge(\n",
    "            sens_toreplace[['created_at', 'pm2.5_cf_1_a', 'pm2.5_cf_1_b', 'ID']],\n",
    "            sens_correct[['created_at', 'temperature', 'humidity']],\n",
    "            on='created_at')\n",
    "        compileddf_fixed = pd.concat([compileddf_fixed, fixed], ignore_index=True)\n",
    "    else:\n",
    "        othersens = compileddf[compileddf['ID'] == sensor_id]\n",
    "        compileddf_fixed = pd.concat([compileddf_fixed, othersens], ignore_index=True)"
   ]
  },
  {
   "cell_type": "code",
   "execution_count": 38,
   "id": "c8f2cf28",
   "metadata": {},
   "outputs": [],
   "source": [
    "# empty lists to store the total data and all the data I removed to get a percentage of what is dropped\n",
    "total_len = []\n",
    "temp_remove = []\n",
    "hum_remove = []\n",
    "chan1_remove = []\n",
    "pm_remove = []\n",
    "below_zero = []\n",
    "quality_controlled = pd.DataFrame()\n",
    "\n",
    "for ii in senslist:\n",
    "    df = compileddf_fixed[compileddf_fixed['ID'] == ii]        \n",
    "    # calculating the percent difference between channel a and channel b \n",
    "    # NOTE: I already took 10 min averages in my pre-processing, \n",
    "    #if you didn't you should take them before this step\n",
    "    df['diff'] = abs(df['pm2.5_cf_1_a'] - df['pm2.5_cf_1_b'])\n",
    "    df['percent'] = ((df['pm2.5_cf_1_a'] + df['pm2.5_cf_1_b'])/2)*0.05\n",
    "    df['percent'] = np.where(df['percent'] < 10, 10, df['percent'] )\n",
    "\n",
    "    # store the total length of this data file to see how much data is removed in each step later\n",
    "    total_len.append(len(df))\n",
    "\n",
    "    # drop temps > 150 degrees F\n",
    "    keep_temp = df[(df['temperature'] < 150) & (df['temperature'] > -50)]\n",
    "    delete_temp = df[(df['temperature'] > 150) & (df['temperature'] > -50)]\n",
    "    temp_remove.append(len(delete_temp))\n",
    "\n",
    "    # drop relative humidity > 100%\n",
    "    keep_hum = keep_temp[(keep_temp['humidity'] < 100)]\n",
    "    delete_hum = keep_temp[(keep_temp['humidity'] > 100)]\n",
    "    hum_remove.append(len(delete_hum))\n",
    "\n",
    "    # drop channels with >10% difference or > 10 ug/m3 difference\n",
    "    keep_chan1 = keep_hum[(keep_hum['diff'] < keep_hum['percent'])]\n",
    "    delete_chan1 = keep_hum[(keep_hum['diff'] > keep_hum['percent'])]\n",
    "    chan1_remove.append(len(delete_chan1))\n",
    "\n",
    "    keep_chan1['channelmean'] = keep_chan1[['pm2.5_cf_1_a','pm2.5_cf_1_b']].mean(axis = 1)\n",
    "\n",
    "    #drop pm > 500 ug/m3 \n",
    "    keep_pm = keep_chan1[(keep_chan1['channelmean'] < 500)]\n",
    "    delete_pm = keep_chan1[(keep_chan1['channelmean'] > 500)]\n",
    "    pm_remove.append(len(delete_pm))\n",
    "\n",
    "    # drop any concentration < 0 ug/m3 (THIS IS USUALLY NO OBSERVATIONS FOR ME)\n",
    "    keep_zero = keep_pm[(keep_pm['channelmean'] > 0)]\n",
    "    delete_zero = keep_pm[(keep_pm['channelmean'] < 0)]\n",
    "    below_zero.append(len(delete_zero))\n",
    "\n",
    "    #trim your tidy data\n",
    "    tidy = keep_zero[['created_at', 'temperature', 'humidity', 'channelmean']]\n",
    "    tidy['ID'] = ii\n",
    "    quality_controlled = pd.concat([quality_controlled, tidy], ignore_index=True)\n",
    "quality_controlled.to_csv('../data/qualitycontrolled.csv')"
   ]
  },
  {
   "cell_type": "code",
   "execution_count": 40,
   "id": "4c934cfa",
   "metadata": {},
   "outputs": [],
   "source": [
    "# find the total length of your lists\n",
    "all_total = np.sum(total_len)\n",
    "all_temp = np.sum(temp_remove)\n",
    "all_hum = np.sum(hum_remove)\n",
    "all_chan1 = np.sum(chan1_remove)\n",
    "all_pm = np.sum(pm_remove)\n",
    "all_zero = np.sum(below_zero)"
   ]
  },
  {
   "cell_type": "code",
   "execution_count": 41,
   "id": "dd3ddf71",
   "metadata": {},
   "outputs": [
    {
     "name": "stdout",
     "output_type": "stream",
     "text": [
      "Temperature > 150:  0.0003 %\n",
      "Humidity > 100:  0.0 %\n",
      "Channel Disagreement:  0.282 %\n",
      "PM > 500:  0.0022 %\n",
      "PM < 0:  0.0 %\n"
     ]
    }
   ],
   "source": [
    "print('Temperature > 150: ',round((all_temp) / (all_total)*100, 4), '%')\n",
    "print('Humidity > 100: ',round((all_hum)/ (all_total)*100, 4), '%')\n",
    "print('Channel Disagreement: ',round((all_chan1) / (all_total)*100, 4), '%')\n",
    "print('PM > 500: ',round((all_pm)/ (all_total)*100, 4), '%')\n",
    "print('PM < 0: ',round((all_zero)/ (all_total)*100, 4), '%')"
   ]
  }
 ],
 "metadata": {
  "kernelspec": {
   "display_name": "Python 3 (ipykernel)",
   "language": "python",
   "name": "python3"
  },
  "language_info": {
   "codemirror_mode": {
    "name": "ipython",
    "version": 3
   },
   "file_extension": ".py",
   "mimetype": "text/x-python",
   "name": "python",
   "nbconvert_exporter": "python",
   "pygments_lexer": "ipython3",
   "version": "3.11.0"
  }
 },
 "nbformat": 4,
 "nbformat_minor": 5
}
