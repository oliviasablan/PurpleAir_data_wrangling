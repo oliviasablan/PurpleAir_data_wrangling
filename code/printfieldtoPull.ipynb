{
 "cells": [
  {
   "cell_type": "code",
   "execution_count": 1,
   "id": "ffcf6d2f",
   "metadata": {},
   "outputs": [],
   "source": [
    "import json\n",
    "import requests # for url requests\n",
    "import unicodecsv as csv\n",
    "import time\n",
    "import pandas as pd\n",
    "import numpy as np\n",
    "import os.path\n",
    "import datetime\n",
    "from datetime import datetime\n",
    "from datetime import timezone\n",
    "from datetime import date\n",
    "from datetime import timedelta\n",
    "import time"
   ]
  },
  {
   "cell_type": "code",
   "execution_count": 2,
   "id": "c0ddcfa0",
   "metadata": {},
   "outputs": [],
   "source": [
    "last_pull = '2025-06-30'"
   ]
  },
  {
   "cell_type": "code",
   "execution_count": 3,
   "id": "fa34d665",
   "metadata": {},
   "outputs": [],
   "source": [
    "google = pd.read_csv('https://docs.google.com/spreadsheets/d/e/2PACX-1vSh2zF6dvZ_7-ShHcN-35mkQA6cKUVA1XApLHd2-6Xr0FqV8Nd0c82gnSU2C4pLeX0ZVdWSjOxjo2NV/pub?gid=184192684&single=true&output=csv')\n",
    "google = google.dropna(subset = 'Sensor ID to Pull')\n",
    "google['Sensor ID to Pull'] = google['Sensor ID to Pull'].astype(int)\n",
    "google['Stop'] = pd.to_datetime(google['Stop'])\n",
    "google = google[(google['Stop'].dt.strftime('%Y-%m-%d') > last_pull) | (google['Stop'].isna())]\n",
    "google = google[~((google['Stop'].isna()) & (google['Offline/Changed out'] == 'Y'))]"
   ]
  },
  {
   "cell_type": "code",
   "execution_count": 4,
   "id": "9cab239e",
   "metadata": {},
   "outputs": [
    {
     "name": "stdout",
     "output_type": "stream",
     "text": [
      "[225087,226747,225083,226753,225017,225079,226745,225091,226755,226727\n",
      ",226741,225077,226729,225007,225109,225001,225105,225081,225107,226735\n",
      ",225019,226731,225027,225095,225099,226725,225025,225009,226751,225075\n",
      ",226757,225039,225041,225023,225051,225089,225037,226737,226733,225031\n",
      ",224997]\n"
     ]
    }
   ],
   "source": [
    "sensorindex = google['Sensor ID to Pull'].unique()\n",
    "print (str(sensorindex).replace(\" \", \",\"))"
   ]
  },
  {
   "cell_type": "code",
   "execution_count": 5,
   "id": "25d28150",
   "metadata": {},
   "outputs": [
    {
     "name": "stdout",
     "output_type": "stream",
     "text": [
      "['E58HEAYLXIIS52LG','3OUZ10NYIE9T0CDK','FQ1SIZ0W72ELF3ZA'\n",
      ",'3KBJKUBQFOTS9OBA','G1I50A4IYVAHAQJ5','WS1JCRJ2HY10Q9XL'\n",
      ",'3B36E6CYH8GBWAF2','DYFX5ONYLSVPO1SM','WM5K6WQOW6Z1YG2O'\n",
      ",'PMPDI5YZUYZTS9LZ','YG6660B901VZ0TQZ','90ZKM6S1KF6BTUGG'\n",
      ",'EFQ454SEC8VE2UT7','QLHD6IPRFKBKKVD0','16IS52NSPUTCWAG4'\n",
      ",'7PMOA4HR41KF5679','Z6NFZA818T0FRB0U','KF6E31KJPOXDUS66'\n",
      ",'Z22VWLYTVNBESGMJ','9CRGOQFNN10NXG8I','JPMO8XM26D33VS2O'\n",
      ",'12WZ0RIZ4EDDI5Y2','GSC2YDQA0TUHL97Z','IAN5GK72FMJJUCV0'\n",
      ",'SIZ36E6FC5E8SX0Z','KHD5D5E9T2MMXHFC','HVPKGBZN2454VPNW'\n",
      ",'LLVBQGR6CW85R1P3','ADTOMV4SBYHC0P8R','H2MMXHFC7OJCV1B6'\n",
      ",'KF8M27M4K4MIFB1W','QTMCMSSD6IONXG56','N4D8T0CFUPO0QCA4'\n",
      ",'9KT2MMYPB7S1LJPL','AQI4UKZ0QFMKNDJD','8IL4J09YRPVZ36AQ'\n",
      ",'NXCP7OJBN4C5C2ZE','E6E59LXJM805D7L4','XRP1RFMKM6QURZDO'\n",
      ",'DZJFBYMWF3Y6R0JD','FR7HIVKWIL7XTY3B']\n"
     ]
    }
   ],
   "source": [
    "google['Read Key'] = google['Read Key'].astype(object)\n",
    "readkeys = google['Read Key'].unique()\n",
    "print (str(readkeys).replace(\" \", \",\"))"
   ]
  },
  {
   "cell_type": "code",
   "execution_count": 7,
   "id": "9a10a2de",
   "metadata": {},
   "outputs": [
    {
     "ename": "SyntaxError",
     "evalue": "invalid decimal literal (1717845958.py, line 2)",
     "output_type": "error",
     "traceback": [
      "\u001b[0;36m  Cell \u001b[0;32mIn [7], line 2\u001b[0;36m\u001b[0m\n\u001b[0;31m    E58HEAYLXIIS52LG,3OUZ10NYIE9T0CDK,FQ1SIZ0W72ELF3ZA\u001b[0m\n\u001b[0m                     ^\u001b[0m\n\u001b[0;31mSyntaxError\u001b[0m\u001b[0;31m:\u001b[0m invalid decimal literal\n"
     ]
    }
   ],
   "source": [
    "# copy and paste the list and do \"find and replace\" to get rid of the quotations\n",
    "E58HEAYLXIIS52LG,3OUZ10NYIE9T0CDK,FQ1SIZ0W72ELF3ZA\n",
    ",3KBJKUBQFOTS9OBA,G1I50A4IYVAHAQJ5,WS1JCRJ2HY10Q9XL\n",
    ",3B36E6CYH8GBWAF2,DYFX5ONYLSVPO1SM,WM5K6WQOW6Z1YG2O\n",
    ",PMPDI5YZUYZTS9LZ,YG6660B901VZ0TQZ,90ZKM6S1KF6BTUGG\n",
    ",EFQ454SEC8VE2UT7,QLHD6IPRFKBKKVD0,16IS52NSPUTCWAG4\n",
    ",7PMOA4HR41KF5679,Z6NFZA818T0FRB0U,KF6E31KJPOXDUS66\n",
    ",Z22VWLYTVNBESGMJ,9CRGOQFNN10NXG8I,JPMO8XM26D33VS2O\n",
    ",12WZ0RIZ4EDDI5Y2,GSC2YDQA0TUHL97Z,IAN5GK72FMJJUCV0\n",
    ",SIZ36E6FC5E8SX0Z,KHD5D5E9T2MMXHFC,HVPKGBZN2454VPNW\n",
    ",LLVBQGR6CW85R1P3,ADTOMV4SBYHC0P8R,H2MMXHFC7OJCV1B6\n",
    ",KF8M27M4K4MIFB1W,QTMCMSSD6IONXG56,N4D8T0CFUPO0QCA4\n",
    ",9KT2MMYPB7S1LJPL,AQI4UKZ0QFMKNDJD,8IL4J09YRPVZ36AQ\n",
    ",NXCP7OJBN4C5C2ZE,E6E59LXJM805D7L4,XRP1RFMKM6QURZDO\n",
    ",DZJFBYMWF3Y6R0JD,FR7HIVKWIL7XTY3B"
   ]
  },
  {
   "cell_type": "code",
   "execution_count": null,
   "id": "73f01c77",
   "metadata": {},
   "outputs": [],
   "source": []
  }
 ],
 "metadata": {
  "kernelspec": {
   "display_name": "Python 3 (ipykernel)",
   "language": "python",
   "name": "python3"
  },
  "language_info": {
   "codemirror_mode": {
    "name": "ipython",
    "version": 3
   },
   "file_extension": ".py",
   "mimetype": "text/x-python",
   "name": "python",
   "nbconvert_exporter": "python",
   "pygments_lexer": "ipython3",
   "version": "3.11.0"
  }
 },
 "nbformat": 4,
 "nbformat_minor": 5
}
