{
 "cells": [
  {
   "cell_type": "markdown",
   "id": "68cd70b0",
   "metadata": {},
   "source": [
    "## dataAverages_step3\n",
    "### Author: Olivia Sablan\n",
    "The following code is used to correct and take averages of PurpleAir data previously quality checked in \"qualitycheck_step2.\"\n",
    "\n",
    "Last updated: May 19, 2025"
   ]
  },
  {
   "cell_type": "code",
   "execution_count": 11,
   "id": "82781b65",
   "metadata": {},
   "outputs": [],
   "source": [
    "import numpy as np\n",
    "import datetime\n",
    "import pandas as pd\n",
    "import warnings\n",
    "from datetime import datetime, timezone\n",
    "warnings.filterwarnings(\"ignore\")\n",
    "\n",
    "def remove_timezone(dt):\n",
    "    return dt.replace(tzinfo=None)"
   ]
  },
  {
   "cell_type": "code",
   "execution_count": 12,
   "id": "b9f33c41",
   "metadata": {},
   "outputs": [],
   "source": [
    "# Read in data that has gone through QA/QC procedures\n",
    "df = pd.read_csv('../data/qualitycontrolled.csv')\n",
    "df['created_at'] = pd.to_datetime(df.created_at, utc = True)\n",
    "# Set timezone to Eastern from UTC and then remove the timezone stamp to be more easily merged with other data\n",
    "\n",
    "df['created_at'] = df['created_at'].dt.tz_convert('US/Eastern')\n",
    "df['created_at'] = df['created_at'].apply(remove_timezone)\n",
    "\n",
    "# Correct the channel mena of PurpleAir PM2.5 data using the Barkjohne et al. (2021) correction factor\n",
    "df['CorrectedPM'] = np.where(df[\"channelmean\"] < 343, 0.524 * df[\"channelmean\"] - 0.0862*df[\"humidity\"] + 5.75,\n",
    "                             (0.46 * df[\"channelmean\"]) + ((3.93E-4)*(df[\"channelmean\"]**2)) + 2.97)\n",
    "df = df.drop(columns = ['channelmean'])\n",
    "# After correction, if there are any concentrations that are negative values, set them equal to zero\n",
    "df['CorrectedPM'][df['CorrectedPM'] < 0] = 0\n",
    "df = df[['created_at', 'temperature', 'humidity', 'ID', 'CorrectedPM']]"
   ]
  },
  {
   "cell_type": "code",
   "execution_count": 6,
   "id": "5d96584e",
   "metadata": {},
   "outputs": [],
   "source": [
    "# When a PurpleAir sensor was replaced with a new one, they got assigned a new ID number, but it is in the same\n",
    "# location so I rename each secondary sensor ID as the same as the first to keep a continuous record at one location\n",
    "df['ID'] = np.where(df['ID'] == 226751, 224997, df['ID'])\n",
    "df['ID'] = np.where(df['ID'] == 225093, 225017, df['ID'])\n",
    "df['ID'] = np.where(df['ID'] == 225103, 225081, df['ID'])\n",
    "df['ID'] = np.where(df['ID'] == 225031, 226735, df['ID'])"
   ]
  },
  {
   "cell_type": "code",
   "execution_count": 16,
   "id": "af6470c9",
   "metadata": {},
   "outputs": [],
   "source": [
    "google = pd.read_csv('https://docs.google.com/spreadsheets/')\n",
    "google = google.dropna(subset = 'Sensor ID for User')\n",
    "google['Sensor ID for User'] = google['Sensor ID for User'].astype(int)\n",
    "google = google.dropna(subset = ['Sensor ID for User'])\n",
    "\n",
    "senslist=np.array(google['Sensor ID for User'][:],dtype='int')\n",
    "strsenslist= [str(i) for i in senslist]\n",
    "\n",
    "lon=np.array(google['Longitude'][:],dtype='float')\n",
    "lat=np.array(google['Latitude'][:],dtype='float')\n",
    "\n",
    "alldaily = pd.DataFrame()\n",
    "allhourly = pd.DataFrame()\n",
    "\n",
    "for x in range(len(senslist)):\n",
    "    sensor = df[df[\"ID\"] == senslist[x]]\n",
    "    sensor[\"Latitude\"]=lat[x]\n",
    "    sensor[\"Longitude\"]=lon[x]\n",
    "    \n",
    "    daily_sens = sensor.groupby(pd.Grouper(key=\"created_at\", freq=\"1D\")).mean().reset_index()\n",
    "    daily_sens['created_at'] = daily_sens.created_at.dt.date\n",
    "    daily_sens.dropna(subset=[\"CorrectedPM\"], inplace=True)\n",
    "    daily_sens['Source'] = 'CSU'\n",
    "    \n",
    "    hourly_sens = sensor.groupby(pd.Grouper(key=\"created_at\", freq=\"1H\")).mean().reset_index()\n",
    "    hourly_sens.dropna(subset=[\"CorrectedPM\"], inplace=True)\n",
    "    hourly_sens[\"Latitude\"]=lat[x]\n",
    "    hourly_sens[\"Longitude\"]=lon[x]\n",
    "    hourly_sens['Source'] = 'CSU'\n",
    " \n",
    "    alldaily = pd.concat([alldaily,daily_sens],sort=False)\n",
    "    allhourly = pd.concat([allhourly,hourly_sens],sort=False)"
   ]
  },
  {
   "cell_type": "code",
   "execution_count": 19,
   "id": "6f564687",
   "metadata": {},
   "outputs": [],
   "source": [
    "allhourly.to_csv('../data/averages/allhourlyCSU.csv')\n",
    "alldaily.to_csv('../data/averages/alldailyCSU.csv')"
   ]
  },
  {
   "cell_type": "code",
   "execution_count": null,
   "id": "45b263e4",
   "metadata": {},
   "outputs": [],
   "source": []
  }
 ],
 "metadata": {
  "kernelspec": {
   "display_name": "Python 3 (ipykernel)",
   "language": "python",
   "name": "python3"
  },
  "language_info": {
   "codemirror_mode": {
    "name": "ipython",
    "version": 3
   },
   "file_extension": ".py",
   "mimetype": "text/x-python",
   "name": "python",
   "nbconvert_exporter": "python",
   "pygments_lexer": "ipython3",
   "version": "3.11.0"
  }
 },
 "nbformat": 4,
 "nbformat_minor": 5
}
